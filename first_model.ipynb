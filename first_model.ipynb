{
  "nbformat": 4,
  "cells": [
    {
      "metadata": {
        "_cell_guid": "084862f8-752d-4fc3-a2b4-47760379f732",
        "_uuid": "c4c68d369081054ac456b18fe131619129cb365d",
        "scrolled": true
      },
      "outputs": [],
      "source": [
        "# This Python 3 environment comes with many helpful analytics libraries installed\n",
        "# It is defined by the kaggle/python docker image: https://github.com/kaggle/docker-python\n",
        "# For example, here's several helpful packages to load in \n",
        "\n",
        "import numpy as np # linear algebra\n",
        "import pandas as pd # data processing, CSV file I/O (e.g. pd.read_csv)\n",
        "\n",
        "# Input data files are available in the \"../input/\" directory.\n",
        "# For example, running this (by clicking run or pressing Shift+Enter) will list the files in the input directory\n",
        "\n",
        "from subprocess import check_output\n",
        "print(check_output([\"ls\", \"../input\"]).decode(\"utf8\"))\n",
        "\n",
        "# Any results you write to the current directory are saved as output.\n",
        "import seaborn as sns\n",
        "import matplotlib.pyplot as plt\n",
        "%matplotlib inline"
      ],
      "cell_type": "code",
      "execution_count": null
    },
    {
      "metadata": {
        "_cell_guid": "dee532f2-4e52-4e6f-aacb-1b39500c6930",
        "_uuid": "0832b3731f68a4874788fdb831bfd231b29b31de",
        "collapsed": true
      },
      "outputs": [],
      "source": [
        "train_data = pd.read_csv('../input/train.csv')\n",
        "test_data = pd.read_csv('../input/test.csv')\n",
        "sample = pd.read_csv('../input/sample_submission.csv')"
      ],
      "cell_type": "code",
      "execution_count": null
    },
    {
      "metadata": {
        "_cell_guid": "dcb0a9b0-dca5-440f-b0d7-b7b62b1f4268",
        "_uuid": "fe745a28e2de2d14519cdc938702ed1ed8a6e906"
      },
      "outputs": [],
      "source": [
        "print(\"train data = \", train_data.shape)\n",
        "print(\"test data = \",test_data.shape)"
      ],
      "cell_type": "code",
      "execution_count": null
    },
    {
      "metadata": {
        "_cell_guid": "a0ce2e7d-66e4-4218-a3c8-35c5d2b82584",
        "_uuid": "2ee66199992b0615a98d91bc4bcd7db892b8d9e5"
      },
      "outputs": [],
      "source": [
        "print(train_data.head(5))\n",
        "#these column names refer to the origin of variable, but there is no reason to concern about it. \n",
        "#\"Ind\" is related to individual or driver, \"reg\" is related to region, \"car\" is related to car itself and \n",
        "#\"calc\" is an calculated feature.The features and rows are not time dependent, so \"ps_ind_01\" and \n",
        "#\"ps_ind_02\" are just labels to hide real names.Unfortunately I can't share the real meanings of variables.\n",
        "#cat is categorical and bin is binary"
      ],
      "cell_type": "code",
      "execution_count": null
    },
    {
      "metadata": {
        "_cell_guid": "de5b54bc-f10b-4165-be36-4a82c0666656",
        "_uuid": "5e20c43636c1d635304c4805cf437bfb28a17472"
      },
      "outputs": [],
      "source": [
        "plt.figure(figsize=(20,10))\n",
        "corr = train_data.iloc[:,0:5].corr()\n",
        "sns.heatmap(corr, \n",
        "            xticklabels=corr.columns.values,\n",
        "            yticklabels=corr.columns.values)"
      ],
      "cell_type": "code",
      "execution_count": null
    },
    {
      "metadata": {
        "_cell_guid": "35083957-a2bc-4abc-a8f1-d59f3811d9e2",
        "_uuid": "a3b929010c36884fedfd60edc49c3903a32f3c69",
        "collapsed": true
      },
      "outputs": [],
      "source": [
        "from sklearn.model_selection import train_test_split\n",
        "X_train, X_test, y_train, y_test = train_test_split(train_data.iloc[:,train_data.columns!= 'target'], \n",
        "                                                    train_data.iloc[:,1], test_size=0.33, random_state=42)"
      ],
      "cell_type": "code",
      "execution_count": null
    },
    {
      "metadata": {
        "_cell_guid": "47770c03-afc8-43e0-999f-ec2d5019db68",
        "_uuid": "c247da691fbf6c9041805348bb6710bacb90a717"
      },
      "outputs": [],
      "source": [
        "from sklearn.ensemble import RandomForestClassifier\n",
        "clf = RandomForestClassifier()\n",
        "clf.fit(X_train,y_train)"
      ],
      "cell_type": "code",
      "execution_count": null
    },
    {
      "metadata": {
        "_cell_guid": "7af092ea-3259-4af6-9669-3df8282bf58e",
        "_uuid": "f85232c34d0eb86134aeb9bbc63824d2f9e248bb",
        "collapsed": true
      },
      "outputs": [],
      "source": [
        "pred_proba = clf.predict_proba(test_data)"
      ],
      "cell_type": "code",
      "execution_count": null
    },
    {
      "metadata": {
        "_cell_guid": "65be98d8-f5f0-4cfe-a93b-8f16558a36e9",
        "_uuid": "010cdd88fafa0791b6f7e99f796f6122fc8076c9",
        "collapsed": true
      },
      "outputs": [],
      "source": [
        "df = pd.DataFrame()\n",
        "df['id'] = test_data['id']\n",
        "df['target'] = pred_proba[:,1]"
      ],
      "cell_type": "code",
      "execution_count": null
    },
    {
      "metadata": {
        "_cell_guid": "54150840-8a23-4df1-bc4f-fbba4db7ac56",
        "_uuid": "bc177c27e9af83f673c6e98e73533e2bb7a703cc",
        "collapsed": true
      },
      "outputs": [],
      "source": [
        "df.to_csv('output.csv',index=False)"
      ],
      "cell_type": "code",
      "execution_count": null
    }
  ],
  "metadata": {
    "language_info": {
      "codemirror_mode": {
        "name": "ipython",
        "version": 3
      },
      "version": "3.6.1",
      "file_extension": ".py",
      "name": "python",
      "mimetype": "text/x-python",
      "nbconvert_exporter": "python",
      "pygments_lexer": "ipython3"
    },
    "kernelspec": {
      "display_name": "Python 3",
      "language": "python",
      "name": "python3"
    }
  },
  "nbformat_minor": 1
}